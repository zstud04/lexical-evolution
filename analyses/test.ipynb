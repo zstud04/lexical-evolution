{
 "cells": [
  {
   "cell_type": "markdown",
   "id": "017adeac",
   "metadata": {},
   "source": [
    "# Lexical evolution lag correlations"
   ]
  }
 ],
 "metadata": {
  "kernelspec": {
   "display_name": "R",
   "language": "R",
   "name": "ir"
  },
  "language_info": {
   "name": "R"
  }
 },
 "nbformat": 4,
 "nbformat_minor": 5
}
